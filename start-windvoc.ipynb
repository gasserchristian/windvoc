{
 "cells": [
  {
   "cell_type": "code",
   "execution_count": null,
   "id": "8e763e12-dab6-4f67-a42b-f9e8c5c634a6",
   "metadata": {},
   "outputs": [],
   "source": [
    "%%javascript\n",
    "var current_url = window.location.href;\n",
    "prompt(\"Put that URL in the CURRENT_URL variable:\", current_url);"
   ]
  },
  {
   "cell_type": "code",
   "execution_count": null,
   "id": "455ee54a",
   "metadata": {},
   "outputs": [],
   "source": [
    "CURRENT_URL = \"PASTE THE URL OF THE PROMPT HERE\""
   ]
  },
  {
   "cell_type": "code",
   "execution_count": null,
   "id": "e5e5f323-b4be-42bd-a892-60be0ce1c5f4",
   "metadata": {},
   "outputs": [],
   "source": [
    "# After you executed the cell above, scan the code or open the url\n",
    "import qrcode\n",
    "from IPython.display import Image \n",
    "server_url = !jupyter server list\n",
    "token = server_url[1].split(\"token=\")[1].split(\" ::\")[0]\n",
    "windvoc_url = f\"{CURRENT_URL.split('/lab')[0]}/proxy/8050/?token={token}\"\n",
    "print(\"Here is the url of windvoc, once it's started: \", windvoc_url)\n",
    "qr = qrcode.QRCode(version=3, box_size=20, border=30, error_correction=qrcode.constants.ERROR_CORRECT_H)\n",
    "qr.add_data(windvoc_url)\n",
    "qr.make(fit=True)\n",
    "display(qr.make_image(fill_color=\"black\", back_color=\"white\"))\n",
    "!npm run mycelium"
   ]
  }
 ],
 "metadata": {
  "kernelspec": {
   "display_name": "Python 3 (ipykernel)",
   "language": "python",
   "name": "python3"
  },
  "language_info": {
   "codemirror_mode": {
    "name": "ipython",
    "version": 3
   },
   "file_extension": ".py",
   "mimetype": "text/x-python",
   "name": "python",
   "nbconvert_exporter": "python",
   "pygments_lexer": "ipython3",
   "version": "3.10.16"
  }
 },
 "nbformat": 4,
 "nbformat_minor": 5
}
