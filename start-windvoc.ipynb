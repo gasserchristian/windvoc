{
 "cells": [
  {
   "cell_type": "code",
   "execution_count": null,
   "id": "8e763e12-dab6-4f67-a42b-f9e8c5c634a6",
   "metadata": {},
   "outputs": [],
   "source": [
    "%%javascript\n",
    "var current_url = window.location.href;\n",
    "prompt(\"Put that URL in the CURRENT_URL variable:\", current_url);"
   ]
  },
  {
   "cell_type": "code",
   "execution_count": null,
   "id": "e5e5f323-b4be-42bd-a892-60be0ce1c5f4",
   "metadata": {},
   "outputs": [],
   "source": [
    "# After you executed the cell above, put the url in the variable bellow\n",
    "import qrcode\n",
    "CURRENT_URL = \"PASTE THE URL OF THE PROMPT HERE\"\n",
    "windvoc_url = f\"{CURRENT_URL.split('/lab')[0]}/proxy/8050/\"\n",
    "print(\"Here is the url of windvoc, once it's started: \", windvoc_url)\n",
    "qr = qrcode.QRCode(version=3, box_size=20, border=30, error_correction=qrcode.constants.ERROR_CORRECT_H)\n",
    "qr.add_data(windvoc_url)\n",
    "qr.make(fit=True)\n",
    "img = qr.make_image(fill_color=\"black\", back_color=\"white\")\n",
    "img"
   ]
  },
  {
   "cell_type": "code",
   "execution_count": null,
   "id": "ca1d89b2-55ca-4276-8907-3328936ad0da",
   "metadata": {},
   "outputs": [],
   "source": [
    "# This token will be used for connection, later on\n",
    "server_url = !jupyter server list\n",
    "token = server_url[1].split(\"token=\")[1].split(\" ::\")[0]\n",
    "print(\"Token for connection: \", token)\n",
    "qr = qrcode.QRCode(version=3, box_size=20, border=10, error_correction=qrcode.constants.ERROR_CORRECT_H)\n",
    "qr.add_data(token)\n",
    "qr.make(fit=True)\n",
    "img = qr.make_image(fill_color=\"black\", back_color=\"white\")\n",
    "img"
   ]
  },
  {
   "cell_type": "code",
   "execution_count": null,
   "id": "c783c81a-6f63-4ce0-ab95-e6f3b81aac60",
   "metadata": {},
   "outputs": [],
   "source": [
    "# Execute the cell bellow and use the generated url (first QR) for connecting to windvoc; use the token for connection (second QR)"
   ]
  },
  {
   "cell_type": "code",
   "execution_count": null,
   "id": "dd575e87-ca5e-43ce-aac6-32f55b440304",
   "metadata": {},
   "outputs": [],
   "source": [
    "!npm run mycelium"
   ]
  }
 ],
 "metadata": {
  "kernelspec": {
   "display_name": "Python 3 (ipykernel)",
   "language": "python",
   "name": "python3"
  },
  "language_info": {
   "codemirror_mode": {
    "name": "ipython",
    "version": 3
   },
   "file_extension": ".py",
   "mimetype": "text/x-python",
   "name": "python",
   "nbconvert_exporter": "python",
   "pygments_lexer": "ipython3",
   "version": "3.10.16"
  }
 },
 "nbformat": 4,
 "nbformat_minor": 5
}
